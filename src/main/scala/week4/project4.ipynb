{
 "cells": [
  {
   "cell_type": "markdown",
   "metadata": {},
   "source": [
    "# Using a Collaborative Filtering Recommender System for Low-Latency Document Classification Engine\n",
    "\n",
    "*Mauricio Alarcon <rmalarc@msn.com>*\n",
    "\n",
    "## Introduction\n",
    "\n",
    "Traditional document classification systems are based on machine learning algorithms such as logistic regression, naive bayes classification, amongst others. These supervised algorithms require an extensive dataset before they can start doing their job.\n",
    "\n",
    "What if you have an interactive application where you need to generate a doucument classification based upon limited user interaction and there is no prior training dataset? \n",
    "\n",
    "We could use one of the traditional classification algorithms in a way that we first generate a training datased by capturing several records of user interaction and then generate predictions. This system adds latency, as the system would not be able to generate predictions until a rich training dataset is first generated. This latency often makes these algorithms hard and impractical to implement due to the dependency on the existence of a rich training dataset.\n",
    "\n",
    "In this project we are developing a low-latency document-document recommender system by generating a prospective lean training dataset captured from user interaction that minimizes prediction latency.\n",
    "\n",
    "In reality, I'm working on a real application that needs documment classification that works more in a \"streaming\" fashion.\n",
    "\n",
    "## The Application Workflow\n",
    "\n",
    "The overal workflow of the application (and how it relates to the classification engine) is as follows:\n",
    "\n",
    "1. User provides the URL of a doucment\n",
    "2. The sytem featurizes and calculates the cosine simmilarity against any one of the existing documents in the training dataset (if any) leading to the following fork:\n",
    "  1. A similar document was found in the training data: The document category is then inherited to the current document and presented to the user. If the user then overrides the classification, we consider this as a new document category and the doucment is added to the training dataset along with the user-provided category\n",
    "  2. No similar documents were found: The user is prompted for the document category and the data gets added to the training dataset.\n",
    "\n",
    "Although the results of this classification are visible to the user, the main intended beneficiary of the engine is the application itself, as based in the document type the execution flow of the app can then be forked based on the output. \n",
    "\n",
    "## Scope and Deliverables\n",
    "\n",
    "In alignment with the course I intend to break this project in two installments as follows:\n",
    "\n",
    "### Project IV\n",
    "\n",
    "* The document classification engine\n",
    "* A light-weight SBT console-based application for testing\n",
    "\n",
    "### Final Project\n",
    "\n",
    "In real life, I will integrate the described engine as part of a proprietary application that extracts information from documents. However, due to the properietary nature and vast codebase I cannot make the code of this application avaiable. I could however do a demonstration and show the final application functionality.\n",
    "\n",
    "Alternatively I could generate a mock web-based application I intend to integrate the engine in some type of web-based application\n",
    "\n"
   ]
  },
  {
   "cell_type": "code",
   "execution_count": null,
   "metadata": {
    "collapsed": true
   },
   "outputs": [],
   "source": []
  }
 ],
 "metadata": {
  "kernelspec": {
   "display_name": "Scala 2.10",
   "language": "scala210",
   "name": "scala210"
  },
  "language_info": {
   "codemirror_mode": "text/x-scala",
   "file_extension": ".scala",
   "mimetype": "text/x-scala",
   "name": "scala210",
   "pygments_lexer": "scala",
   "version": "2.10.6"
  }
 },
 "nbformat": 4,
 "nbformat_minor": 0
}
